{
  "cells": [
    {
      "cell_type": "markdown",
      "metadata": {
        "id": "view-in-github",
        "colab_type": "text"
      },
      "source": [
        "<a href=\"https://colab.research.google.com/github/amirkasaei/Decision-Tree-Classifier-with-scikit-learn/blob/main/Decision_Tree.ipynb\" target=\"_parent\"><img src=\"https://colab.research.google.com/assets/colab-badge.svg\" alt=\"Open In Colab\"/></a>"
      ]
    },
    {
      "cell_type": "markdown",
      "metadata": {
        "id": "5FkIRNDo577U"
      },
      "source": [
        "# **Importing Required Libraries**"
      ]
    },
    {
      "cell_type": "markdown",
      "metadata": {
        "id": "5chCw19H9YU9"
      },
      "source": [
        "**install graphviz and pydotplus**"
      ]
    },
    {
      "cell_type": "code",
      "execution_count": 1,
      "metadata": {
        "id": "nNz4FZfy9Qlq"
      },
      "outputs": [],
      "source": [
        "# pip install -q graphviz"
      ]
    },
    {
      "cell_type": "code",
      "execution_count": 2,
      "metadata": {
        "id": "jObD21mL9TZm"
      },
      "outputs": [],
      "source": [
        "# pip install -q pydotplus"
      ]
    },
    {
      "cell_type": "markdown",
      "metadata": {
        "id": "EWu6tA5E6FvB"
      },
      "source": [
        "**load the required libraries**"
      ]
    },
    {
      "cell_type": "code",
      "execution_count": 3,
      "metadata": {
        "id": "hzyJ7fT9JFGP"
      },
      "outputs": [],
      "source": [
        "# Load libraries\n",
        "import pandas as pd\n",
        "import torch\n",
        "import tensorflow as tf\n",
        "import numpy as np\n",
        "from sklearn.tree import DecisionTreeClassifier, plot_tree # Import Decision Tree Classifier\n",
        "from sklearn.model_selection import train_test_split # Import train_test_split function\n",
        "from sklearn import metrics #Import scikit-learn metrics module for accuracy calculation\n",
        "from sklearn.metrics import accuracy_score, confusion_matrix\n",
        "from sklearn.model_selection import RandomizedSearchCV, GridSearchCV\n",
        "from sklearn.preprocessing import LabelEncoder\n",
        "from sklearn.tree import export_graphviz\n",
        "from six import StringIO\n",
        "from IPython.display import Image\n",
        "import pydotplus\n",
        "import matplotlib.pyplot as plt\n",
        "import seaborn as sns"
      ]
    },
    {
      "cell_type": "markdown",
      "source": [
        "**set GPU**"
      ],
      "metadata": {
        "id": "MkZulDDBnF2c"
      }
    },
    {
      "cell_type": "code",
      "execution_count": 4,
      "metadata": {
        "colab": {
          "base_uri": "https://localhost:8080/"
        },
        "id": "9phkuwg0f3Qw",
        "outputId": "f6f7640c-34b4-49b1-83fd-aac0610e1caf"
      },
      "outputs": [
        {
          "output_type": "stream",
          "name": "stdout",
          "text": [
            "Found GPU at: /device:GPU:0\n"
          ]
        }
      ],
      "source": [
        "device_name = tf.test.gpu_device_name()\n",
        "if device_name != '/device:GPU:0':\n",
        "  raise SystemError('GPU device not found')\n",
        "print('Found GPU at: {}'.format(device_name))"
      ]
    },
    {
      "cell_type": "markdown",
      "metadata": {
        "id": "8iVq5p1t6HMs"
      },
      "source": [
        "# **Loading Data**"
      ]
    },
    {
      "cell_type": "code",
      "execution_count": 5,
      "metadata": {
        "id": "xHrIdbdGL9Wy"
      },
      "outputs": [],
      "source": [
        "url = 'https://raw.githubusercontent.com/amirkasaei/Decision-Tree-with-Python/main/Dataset/connect-4.data'"
      ]
    },
    {
      "cell_type": "code",
      "execution_count": 6,
      "metadata": {
        "id": "wSuXK9J46WGf"
      },
      "outputs": [],
      "source": [
        "feature_columns = [str(i) for i in range(1, 43)]\n",
        "column_names = feature_columns + ['class']"
      ]
    },
    {
      "cell_type": "code",
      "execution_count": 7,
      "metadata": {
        "colab": {
          "base_uri": "https://localhost:8080/",
          "height": 0
        },
        "id": "oIJWSVMWMEEK",
        "outputId": "9981e61e-d6f2-4b95-a457-6a49f81a7164"
      },
      "outputs": [
        {
          "output_type": "execute_result",
          "data": {
            "text/plain": [
              "   1  2  3  4  5  6  7  8  9 10  ... 34 35 36 37 38 39 40 41 42 class\n",
              "0  b  b  b  b  b  b  b  b  b  b  ...  b  b  b  b  b  b  b  b  b   win\n",
              "1  b  b  b  b  b  b  b  b  b  b  ...  b  b  b  b  b  b  b  b  b   win\n",
              "2  b  b  b  b  b  b  o  b  b  b  ...  b  b  b  b  b  b  b  b  b   win\n",
              "3  b  b  b  b  b  b  b  b  b  b  ...  b  b  b  b  b  b  b  b  b   win\n",
              "4  o  b  b  b  b  b  b  b  b  b  ...  b  b  b  b  b  b  b  b  b   win\n",
              "\n",
              "[5 rows x 43 columns]"
            ],
            "text/html": [
              "\n",
              "  <div id=\"df-a9c40441-c1d3-4a8c-9fa0-522b9d798427\">\n",
              "    <div class=\"colab-df-container\">\n",
              "      <div>\n",
              "<style scoped>\n",
              "    .dataframe tbody tr th:only-of-type {\n",
              "        vertical-align: middle;\n",
              "    }\n",
              "\n",
              "    .dataframe tbody tr th {\n",
              "        vertical-align: top;\n",
              "    }\n",
              "\n",
              "    .dataframe thead th {\n",
              "        text-align: right;\n",
              "    }\n",
              "</style>\n",
              "<table border=\"1\" class=\"dataframe\">\n",
              "  <thead>\n",
              "    <tr style=\"text-align: right;\">\n",
              "      <th></th>\n",
              "      <th>1</th>\n",
              "      <th>2</th>\n",
              "      <th>3</th>\n",
              "      <th>4</th>\n",
              "      <th>5</th>\n",
              "      <th>6</th>\n",
              "      <th>7</th>\n",
              "      <th>8</th>\n",
              "      <th>9</th>\n",
              "      <th>10</th>\n",
              "      <th>...</th>\n",
              "      <th>34</th>\n",
              "      <th>35</th>\n",
              "      <th>36</th>\n",
              "      <th>37</th>\n",
              "      <th>38</th>\n",
              "      <th>39</th>\n",
              "      <th>40</th>\n",
              "      <th>41</th>\n",
              "      <th>42</th>\n",
              "      <th>class</th>\n",
              "    </tr>\n",
              "  </thead>\n",
              "  <tbody>\n",
              "    <tr>\n",
              "      <th>0</th>\n",
              "      <td>b</td>\n",
              "      <td>b</td>\n",
              "      <td>b</td>\n",
              "      <td>b</td>\n",
              "      <td>b</td>\n",
              "      <td>b</td>\n",
              "      <td>b</td>\n",
              "      <td>b</td>\n",
              "      <td>b</td>\n",
              "      <td>b</td>\n",
              "      <td>...</td>\n",
              "      <td>b</td>\n",
              "      <td>b</td>\n",
              "      <td>b</td>\n",
              "      <td>b</td>\n",
              "      <td>b</td>\n",
              "      <td>b</td>\n",
              "      <td>b</td>\n",
              "      <td>b</td>\n",
              "      <td>b</td>\n",
              "      <td>win</td>\n",
              "    </tr>\n",
              "    <tr>\n",
              "      <th>1</th>\n",
              "      <td>b</td>\n",
              "      <td>b</td>\n",
              "      <td>b</td>\n",
              "      <td>b</td>\n",
              "      <td>b</td>\n",
              "      <td>b</td>\n",
              "      <td>b</td>\n",
              "      <td>b</td>\n",
              "      <td>b</td>\n",
              "      <td>b</td>\n",
              "      <td>...</td>\n",
              "      <td>b</td>\n",
              "      <td>b</td>\n",
              "      <td>b</td>\n",
              "      <td>b</td>\n",
              "      <td>b</td>\n",
              "      <td>b</td>\n",
              "      <td>b</td>\n",
              "      <td>b</td>\n",
              "      <td>b</td>\n",
              "      <td>win</td>\n",
              "    </tr>\n",
              "    <tr>\n",
              "      <th>2</th>\n",
              "      <td>b</td>\n",
              "      <td>b</td>\n",
              "      <td>b</td>\n",
              "      <td>b</td>\n",
              "      <td>b</td>\n",
              "      <td>b</td>\n",
              "      <td>o</td>\n",
              "      <td>b</td>\n",
              "      <td>b</td>\n",
              "      <td>b</td>\n",
              "      <td>...</td>\n",
              "      <td>b</td>\n",
              "      <td>b</td>\n",
              "      <td>b</td>\n",
              "      <td>b</td>\n",
              "      <td>b</td>\n",
              "      <td>b</td>\n",
              "      <td>b</td>\n",
              "      <td>b</td>\n",
              "      <td>b</td>\n",
              "      <td>win</td>\n",
              "    </tr>\n",
              "    <tr>\n",
              "      <th>3</th>\n",
              "      <td>b</td>\n",
              "      <td>b</td>\n",
              "      <td>b</td>\n",
              "      <td>b</td>\n",
              "      <td>b</td>\n",
              "      <td>b</td>\n",
              "      <td>b</td>\n",
              "      <td>b</td>\n",
              "      <td>b</td>\n",
              "      <td>b</td>\n",
              "      <td>...</td>\n",
              "      <td>b</td>\n",
              "      <td>b</td>\n",
              "      <td>b</td>\n",
              "      <td>b</td>\n",
              "      <td>b</td>\n",
              "      <td>b</td>\n",
              "      <td>b</td>\n",
              "      <td>b</td>\n",
              "      <td>b</td>\n",
              "      <td>win</td>\n",
              "    </tr>\n",
              "    <tr>\n",
              "      <th>4</th>\n",
              "      <td>o</td>\n",
              "      <td>b</td>\n",
              "      <td>b</td>\n",
              "      <td>b</td>\n",
              "      <td>b</td>\n",
              "      <td>b</td>\n",
              "      <td>b</td>\n",
              "      <td>b</td>\n",
              "      <td>b</td>\n",
              "      <td>b</td>\n",
              "      <td>...</td>\n",
              "      <td>b</td>\n",
              "      <td>b</td>\n",
              "      <td>b</td>\n",
              "      <td>b</td>\n",
              "      <td>b</td>\n",
              "      <td>b</td>\n",
              "      <td>b</td>\n",
              "      <td>b</td>\n",
              "      <td>b</td>\n",
              "      <td>win</td>\n",
              "    </tr>\n",
              "  </tbody>\n",
              "</table>\n",
              "<p>5 rows × 43 columns</p>\n",
              "</div>\n",
              "      <button class=\"colab-df-convert\" onclick=\"convertToInteractive('df-a9c40441-c1d3-4a8c-9fa0-522b9d798427')\"\n",
              "              title=\"Convert this dataframe to an interactive table.\"\n",
              "              style=\"display:none;\">\n",
              "        \n",
              "  <svg xmlns=\"http://www.w3.org/2000/svg\" height=\"24px\"viewBox=\"0 0 24 24\"\n",
              "       width=\"24px\">\n",
              "    <path d=\"M0 0h24v24H0V0z\" fill=\"none\"/>\n",
              "    <path d=\"M18.56 5.44l.94 2.06.94-2.06 2.06-.94-2.06-.94-.94-2.06-.94 2.06-2.06.94zm-11 1L8.5 8.5l.94-2.06 2.06-.94-2.06-.94L8.5 2.5l-.94 2.06-2.06.94zm10 10l.94 2.06.94-2.06 2.06-.94-2.06-.94-.94-2.06-.94 2.06-2.06.94z\"/><path d=\"M17.41 7.96l-1.37-1.37c-.4-.4-.92-.59-1.43-.59-.52 0-1.04.2-1.43.59L10.3 9.45l-7.72 7.72c-.78.78-.78 2.05 0 2.83L4 21.41c.39.39.9.59 1.41.59.51 0 1.02-.2 1.41-.59l7.78-7.78 2.81-2.81c.8-.78.8-2.07 0-2.86zM5.41 20L4 18.59l7.72-7.72 1.47 1.35L5.41 20z\"/>\n",
              "  </svg>\n",
              "      </button>\n",
              "      \n",
              "  <style>\n",
              "    .colab-df-container {\n",
              "      display:flex;\n",
              "      flex-wrap:wrap;\n",
              "      gap: 12px;\n",
              "    }\n",
              "\n",
              "    .colab-df-convert {\n",
              "      background-color: #E8F0FE;\n",
              "      border: none;\n",
              "      border-radius: 50%;\n",
              "      cursor: pointer;\n",
              "      display: none;\n",
              "      fill: #1967D2;\n",
              "      height: 32px;\n",
              "      padding: 0 0 0 0;\n",
              "      width: 32px;\n",
              "    }\n",
              "\n",
              "    .colab-df-convert:hover {\n",
              "      background-color: #E2EBFA;\n",
              "      box-shadow: 0px 1px 2px rgba(60, 64, 67, 0.3), 0px 1px 3px 1px rgba(60, 64, 67, 0.15);\n",
              "      fill: #174EA6;\n",
              "    }\n",
              "\n",
              "    [theme=dark] .colab-df-convert {\n",
              "      background-color: #3B4455;\n",
              "      fill: #D2E3FC;\n",
              "    }\n",
              "\n",
              "    [theme=dark] .colab-df-convert:hover {\n",
              "      background-color: #434B5C;\n",
              "      box-shadow: 0px 1px 3px 1px rgba(0, 0, 0, 0.15);\n",
              "      filter: drop-shadow(0px 1px 2px rgba(0, 0, 0, 0.3));\n",
              "      fill: #FFFFFF;\n",
              "    }\n",
              "  </style>\n",
              "\n",
              "      <script>\n",
              "        const buttonEl =\n",
              "          document.querySelector('#df-a9c40441-c1d3-4a8c-9fa0-522b9d798427 button.colab-df-convert');\n",
              "        buttonEl.style.display =\n",
              "          google.colab.kernel.accessAllowed ? 'block' : 'none';\n",
              "\n",
              "        async function convertToInteractive(key) {\n",
              "          const element = document.querySelector('#df-a9c40441-c1d3-4a8c-9fa0-522b9d798427');\n",
              "          const dataTable =\n",
              "            await google.colab.kernel.invokeFunction('convertToInteractive',\n",
              "                                                     [key], {});\n",
              "          if (!dataTable) return;\n",
              "\n",
              "          const docLinkHtml = 'Like what you see? Visit the ' +\n",
              "            '<a target=\"_blank\" href=https://colab.research.google.com/notebooks/data_table.ipynb>data table notebook</a>'\n",
              "            + ' to learn more about interactive tables.';\n",
              "          element.innerHTML = '';\n",
              "          dataTable['output_type'] = 'display_data';\n",
              "          await google.colab.output.renderOutput(dataTable, element);\n",
              "          const docLink = document.createElement('div');\n",
              "          docLink.innerHTML = docLinkHtml;\n",
              "          element.appendChild(docLink);\n",
              "        }\n",
              "      </script>\n",
              "    </div>\n",
              "  </div>\n",
              "  "
            ]
          },
          "metadata": {},
          "execution_count": 7
        }
      ],
      "source": [
        "df = pd.read_csv(url, names=column_names)\n",
        "df.head()"
      ]
    },
    {
      "cell_type": "markdown",
      "metadata": {
        "id": "9_USH83u6hkO"
      },
      "source": [
        "# **Feature Selection**"
      ]
    },
    {
      "cell_type": "markdown",
      "metadata": {
        "id": "jR9_dFmjALcu"
      },
      "source": [
        "**encode dataset**"
      ]
    },
    {
      "cell_type": "code",
      "execution_count": 8,
      "metadata": {
        "id": "MD7fr8VF-GV9"
      },
      "outputs": [],
      "source": [
        "le = LabelEncoder()\n",
        "\n",
        "df[column_names] = df[column_names].apply(le.fit_transform, axis=0)"
      ]
    },
    {
      "cell_type": "code",
      "execution_count": 9,
      "metadata": {
        "colab": {
          "base_uri": "https://localhost:8080/"
        },
        "id": "XoSZ-GgI_pRN",
        "outputId": "dead5cc6-04b0-48f6-e780-6ab8054b54f8"
      },
      "outputs": [
        {
          "output_type": "execute_result",
          "data": {
            "text/plain": [
              "array(['draw', 'loss', 'win'], dtype=object)"
            ]
          },
          "metadata": {},
          "execution_count": 9
        }
      ],
      "source": [
        "classes = le.classes_\n",
        "classes"
      ]
    },
    {
      "cell_type": "code",
      "execution_count": 10,
      "metadata": {
        "colab": {
          "base_uri": "https://localhost:8080/",
          "height": 0
        },
        "id": "6t7vCAyx_hIy",
        "outputId": "f1daf3e4-3eda-4f4c-e6eb-fd4f8d99b1d3"
      },
      "outputs": [
        {
          "output_type": "execute_result",
          "data": {
            "text/plain": [
              "   1  2  3  4  5  6  7  8  9  10  ...  34  35  36  37  38  39  40  41  42  \\\n",
              "0  0  0  0  0  0  0  0  0  0   0  ...   0   0   0   0   0   0   0   0   0   \n",
              "1  0  0  0  0  0  0  0  0  0   0  ...   0   0   0   0   0   0   0   0   0   \n",
              "2  0  0  0  0  0  0  1  0  0   0  ...   0   0   0   0   0   0   0   0   0   \n",
              "3  0  0  0  0  0  0  0  0  0   0  ...   0   0   0   0   0   0   0   0   0   \n",
              "4  1  0  0  0  0  0  0  0  0   0  ...   0   0   0   0   0   0   0   0   0   \n",
              "\n",
              "   class  \n",
              "0      2  \n",
              "1      2  \n",
              "2      2  \n",
              "3      2  \n",
              "4      2  \n",
              "\n",
              "[5 rows x 43 columns]"
            ],
            "text/html": [
              "\n",
              "  <div id=\"df-ccb486f9-2121-4928-aa10-3286f09db3b2\">\n",
              "    <div class=\"colab-df-container\">\n",
              "      <div>\n",
              "<style scoped>\n",
              "    .dataframe tbody tr th:only-of-type {\n",
              "        vertical-align: middle;\n",
              "    }\n",
              "\n",
              "    .dataframe tbody tr th {\n",
              "        vertical-align: top;\n",
              "    }\n",
              "\n",
              "    .dataframe thead th {\n",
              "        text-align: right;\n",
              "    }\n",
              "</style>\n",
              "<table border=\"1\" class=\"dataframe\">\n",
              "  <thead>\n",
              "    <tr style=\"text-align: right;\">\n",
              "      <th></th>\n",
              "      <th>1</th>\n",
              "      <th>2</th>\n",
              "      <th>3</th>\n",
              "      <th>4</th>\n",
              "      <th>5</th>\n",
              "      <th>6</th>\n",
              "      <th>7</th>\n",
              "      <th>8</th>\n",
              "      <th>9</th>\n",
              "      <th>10</th>\n",
              "      <th>...</th>\n",
              "      <th>34</th>\n",
              "      <th>35</th>\n",
              "      <th>36</th>\n",
              "      <th>37</th>\n",
              "      <th>38</th>\n",
              "      <th>39</th>\n",
              "      <th>40</th>\n",
              "      <th>41</th>\n",
              "      <th>42</th>\n",
              "      <th>class</th>\n",
              "    </tr>\n",
              "  </thead>\n",
              "  <tbody>\n",
              "    <tr>\n",
              "      <th>0</th>\n",
              "      <td>0</td>\n",
              "      <td>0</td>\n",
              "      <td>0</td>\n",
              "      <td>0</td>\n",
              "      <td>0</td>\n",
              "      <td>0</td>\n",
              "      <td>0</td>\n",
              "      <td>0</td>\n",
              "      <td>0</td>\n",
              "      <td>0</td>\n",
              "      <td>...</td>\n",
              "      <td>0</td>\n",
              "      <td>0</td>\n",
              "      <td>0</td>\n",
              "      <td>0</td>\n",
              "      <td>0</td>\n",
              "      <td>0</td>\n",
              "      <td>0</td>\n",
              "      <td>0</td>\n",
              "      <td>0</td>\n",
              "      <td>2</td>\n",
              "    </tr>\n",
              "    <tr>\n",
              "      <th>1</th>\n",
              "      <td>0</td>\n",
              "      <td>0</td>\n",
              "      <td>0</td>\n",
              "      <td>0</td>\n",
              "      <td>0</td>\n",
              "      <td>0</td>\n",
              "      <td>0</td>\n",
              "      <td>0</td>\n",
              "      <td>0</td>\n",
              "      <td>0</td>\n",
              "      <td>...</td>\n",
              "      <td>0</td>\n",
              "      <td>0</td>\n",
              "      <td>0</td>\n",
              "      <td>0</td>\n",
              "      <td>0</td>\n",
              "      <td>0</td>\n",
              "      <td>0</td>\n",
              "      <td>0</td>\n",
              "      <td>0</td>\n",
              "      <td>2</td>\n",
              "    </tr>\n",
              "    <tr>\n",
              "      <th>2</th>\n",
              "      <td>0</td>\n",
              "      <td>0</td>\n",
              "      <td>0</td>\n",
              "      <td>0</td>\n",
              "      <td>0</td>\n",
              "      <td>0</td>\n",
              "      <td>1</td>\n",
              "      <td>0</td>\n",
              "      <td>0</td>\n",
              "      <td>0</td>\n",
              "      <td>...</td>\n",
              "      <td>0</td>\n",
              "      <td>0</td>\n",
              "      <td>0</td>\n",
              "      <td>0</td>\n",
              "      <td>0</td>\n",
              "      <td>0</td>\n",
              "      <td>0</td>\n",
              "      <td>0</td>\n",
              "      <td>0</td>\n",
              "      <td>2</td>\n",
              "    </tr>\n",
              "    <tr>\n",
              "      <th>3</th>\n",
              "      <td>0</td>\n",
              "      <td>0</td>\n",
              "      <td>0</td>\n",
              "      <td>0</td>\n",
              "      <td>0</td>\n",
              "      <td>0</td>\n",
              "      <td>0</td>\n",
              "      <td>0</td>\n",
              "      <td>0</td>\n",
              "      <td>0</td>\n",
              "      <td>...</td>\n",
              "      <td>0</td>\n",
              "      <td>0</td>\n",
              "      <td>0</td>\n",
              "      <td>0</td>\n",
              "      <td>0</td>\n",
              "      <td>0</td>\n",
              "      <td>0</td>\n",
              "      <td>0</td>\n",
              "      <td>0</td>\n",
              "      <td>2</td>\n",
              "    </tr>\n",
              "    <tr>\n",
              "      <th>4</th>\n",
              "      <td>1</td>\n",
              "      <td>0</td>\n",
              "      <td>0</td>\n",
              "      <td>0</td>\n",
              "      <td>0</td>\n",
              "      <td>0</td>\n",
              "      <td>0</td>\n",
              "      <td>0</td>\n",
              "      <td>0</td>\n",
              "      <td>0</td>\n",
              "      <td>...</td>\n",
              "      <td>0</td>\n",
              "      <td>0</td>\n",
              "      <td>0</td>\n",
              "      <td>0</td>\n",
              "      <td>0</td>\n",
              "      <td>0</td>\n",
              "      <td>0</td>\n",
              "      <td>0</td>\n",
              "      <td>0</td>\n",
              "      <td>2</td>\n",
              "    </tr>\n",
              "  </tbody>\n",
              "</table>\n",
              "<p>5 rows × 43 columns</p>\n",
              "</div>\n",
              "      <button class=\"colab-df-convert\" onclick=\"convertToInteractive('df-ccb486f9-2121-4928-aa10-3286f09db3b2')\"\n",
              "              title=\"Convert this dataframe to an interactive table.\"\n",
              "              style=\"display:none;\">\n",
              "        \n",
              "  <svg xmlns=\"http://www.w3.org/2000/svg\" height=\"24px\"viewBox=\"0 0 24 24\"\n",
              "       width=\"24px\">\n",
              "    <path d=\"M0 0h24v24H0V0z\" fill=\"none\"/>\n",
              "    <path d=\"M18.56 5.44l.94 2.06.94-2.06 2.06-.94-2.06-.94-.94-2.06-.94 2.06-2.06.94zm-11 1L8.5 8.5l.94-2.06 2.06-.94-2.06-.94L8.5 2.5l-.94 2.06-2.06.94zm10 10l.94 2.06.94-2.06 2.06-.94-2.06-.94-.94-2.06-.94 2.06-2.06.94z\"/><path d=\"M17.41 7.96l-1.37-1.37c-.4-.4-.92-.59-1.43-.59-.52 0-1.04.2-1.43.59L10.3 9.45l-7.72 7.72c-.78.78-.78 2.05 0 2.83L4 21.41c.39.39.9.59 1.41.59.51 0 1.02-.2 1.41-.59l7.78-7.78 2.81-2.81c.8-.78.8-2.07 0-2.86zM5.41 20L4 18.59l7.72-7.72 1.47 1.35L5.41 20z\"/>\n",
              "  </svg>\n",
              "      </button>\n",
              "      \n",
              "  <style>\n",
              "    .colab-df-container {\n",
              "      display:flex;\n",
              "      flex-wrap:wrap;\n",
              "      gap: 12px;\n",
              "    }\n",
              "\n",
              "    .colab-df-convert {\n",
              "      background-color: #E8F0FE;\n",
              "      border: none;\n",
              "      border-radius: 50%;\n",
              "      cursor: pointer;\n",
              "      display: none;\n",
              "      fill: #1967D2;\n",
              "      height: 32px;\n",
              "      padding: 0 0 0 0;\n",
              "      width: 32px;\n",
              "    }\n",
              "\n",
              "    .colab-df-convert:hover {\n",
              "      background-color: #E2EBFA;\n",
              "      box-shadow: 0px 1px 2px rgba(60, 64, 67, 0.3), 0px 1px 3px 1px rgba(60, 64, 67, 0.15);\n",
              "      fill: #174EA6;\n",
              "    }\n",
              "\n",
              "    [theme=dark] .colab-df-convert {\n",
              "      background-color: #3B4455;\n",
              "      fill: #D2E3FC;\n",
              "    }\n",
              "\n",
              "    [theme=dark] .colab-df-convert:hover {\n",
              "      background-color: #434B5C;\n",
              "      box-shadow: 0px 1px 3px 1px rgba(0, 0, 0, 0.15);\n",
              "      filter: drop-shadow(0px 1px 2px rgba(0, 0, 0, 0.3));\n",
              "      fill: #FFFFFF;\n",
              "    }\n",
              "  </style>\n",
              "\n",
              "      <script>\n",
              "        const buttonEl =\n",
              "          document.querySelector('#df-ccb486f9-2121-4928-aa10-3286f09db3b2 button.colab-df-convert');\n",
              "        buttonEl.style.display =\n",
              "          google.colab.kernel.accessAllowed ? 'block' : 'none';\n",
              "\n",
              "        async function convertToInteractive(key) {\n",
              "          const element = document.querySelector('#df-ccb486f9-2121-4928-aa10-3286f09db3b2');\n",
              "          const dataTable =\n",
              "            await google.colab.kernel.invokeFunction('convertToInteractive',\n",
              "                                                     [key], {});\n",
              "          if (!dataTable) return;\n",
              "\n",
              "          const docLinkHtml = 'Like what you see? Visit the ' +\n",
              "            '<a target=\"_blank\" href=https://colab.research.google.com/notebooks/data_table.ipynb>data table notebook</a>'\n",
              "            + ' to learn more about interactive tables.';\n",
              "          element.innerHTML = '';\n",
              "          dataTable['output_type'] = 'display_data';\n",
              "          await google.colab.output.renderOutput(dataTable, element);\n",
              "          const docLink = document.createElement('div');\n",
              "          docLink.innerHTML = docLinkHtml;\n",
              "          element.appendChild(docLink);\n",
              "        }\n",
              "      </script>\n",
              "    </div>\n",
              "  </div>\n",
              "  "
            ]
          },
          "metadata": {},
          "execution_count": 10
        }
      ],
      "source": [
        "df.head()"
      ]
    },
    {
      "cell_type": "markdown",
      "metadata": {
        "id": "JHX_vyjH6qdN"
      },
      "source": [
        "**divide given columns into two types of variables (target variable and feature variables).**"
      ]
    },
    {
      "cell_type": "code",
      "execution_count": 11,
      "metadata": {
        "colab": {
          "base_uri": "https://localhost:8080/"
        },
        "id": "wnR-ojA0Q7Xe",
        "outputId": "2645087c-9c4d-4be0-e84e-e7350b26273a"
      },
      "outputs": [
        {
          "output_type": "execute_result",
          "data": {
            "text/plain": [
              "((67557, 42), (67557,))"
            ]
          },
          "metadata": {},
          "execution_count": 11
        }
      ],
      "source": [
        "x = df[column_names[:-1]]\n",
        "y = df['class']\n",
        "\n",
        "x.shape, y.shape"
      ]
    },
    {
      "cell_type": "markdown",
      "metadata": {
        "id": "pPM1Na2T61VK"
      },
      "source": [
        "# **Splitting Data**"
      ]
    },
    {
      "cell_type": "markdown",
      "metadata": {
        "id": "fJbhsVfZ7PuT"
      },
      "source": [
        "70% training, 20% validation and 10% test"
      ]
    },
    {
      "cell_type": "code",
      "execution_count": 12,
      "metadata": {
        "id": "XcRPG4RQ5qnz"
      },
      "outputs": [],
      "source": [
        "# Split dataset into training set and test set\n",
        "x_train, x_test, y_train, y_test = train_test_split(x, y, test_size=0.1, random_state=1)\n",
        "x_train, x_valid, y_train, y_valid = train_test_split(x_train, y_train, test_size=0.2, random_state=1)"
      ]
    },
    {
      "cell_type": "code",
      "source": [
        "x_train.shape, x_valid.shape, x_test.shape"
      ],
      "metadata": {
        "colab": {
          "base_uri": "https://localhost:8080/"
        },
        "id": "n-BraHyzmUvf",
        "outputId": "09038589-a939-4ca2-8277-d88cc113a47d"
      },
      "execution_count": 13,
      "outputs": [
        {
          "output_type": "execute_result",
          "data": {
            "text/plain": [
              "((48640, 42), (12161, 42), (6756, 42))"
            ]
          },
          "metadata": {},
          "execution_count": 13
        }
      ]
    },
    {
      "cell_type": "markdown",
      "metadata": {
        "id": "e0Mz6dZ966jX"
      },
      "source": [
        "# **Building Decision Tree Model**"
      ]
    },
    {
      "cell_type": "markdown",
      "metadata": {
        "id": "JWawI_MZ7U-K"
      },
      "source": [
        "create a decision tree model using Scikit-learn"
      ]
    },
    {
      "cell_type": "markdown",
      "source": [
        "## **helper function**"
      ],
      "metadata": {
        "id": "PwMfBP1gx0GY"
      }
    },
    {
      "cell_type": "code",
      "source": [
        "def plot_confusionmatrix(y_train_pred,y_train,dom):\n",
        "  print(f'{dom} Confusion matrix')\n",
        "  cf = confusion_matrix(y_train_pred,y_train)\n",
        "  sns.heatmap(cf,annot=True,yticklabels=classes, xticklabels=classes, cmap='Blues', fmt='g')\n",
        "  plt.tight_layout()\n",
        "  plt.show()"
      ],
      "metadata": {
        "id": "wN_JEFZ4xy0U"
      },
      "execution_count": 14,
      "outputs": []
    },
    {
      "cell_type": "markdown",
      "source": [
        "## **Pre Pruning (Hyperparameter Tunning)**"
      ],
      "metadata": {
        "id": "rfbGx6QfSOnA"
      }
    },
    {
      "cell_type": "markdown",
      "source": [
        "### **find best max features**"
      ],
      "metadata": {
        "id": "eDNbsvfddZYI"
      }
    },
    {
      "cell_type": "code",
      "source": [
        "max_features = []\n",
        "acc_gini = []\n",
        "acc_entropy = []\n",
        "start = 10\n",
        "end = 40\n",
        "for i in range(start, end):\n",
        "  # decision tree with gini\n",
        "  dtree = DecisionTreeClassifier(criterion='gini', max_features=i)\n",
        "  dtree.fit(x_train, y_train)\n",
        "  pred = dtree.predict(x_valid)\n",
        "  acc_gini.append(accuracy_score(y_valid,pred))\n",
        "\n",
        "  # decision tree with entropy\n",
        "  dtree = DecisionTreeClassifier(criterion='entropy', max_features=i)\n",
        "  dtree.fit(x_train, y_train)\n",
        "  pred = dtree.predict(x_valid)\n",
        "  acc_entropy.append(accuracy_score(y_valid, pred))\n",
        "\n",
        "  max_features.append(i)\n",
        "  d = pd.DataFrame({'acc_gini':pd.Series(acc_gini), 'acc_entropy':pd.Series(acc_entropy), 'max_features':pd.Series(max_features)})# visualizing changes in parameters\n",
        "plt.plot('max_features','acc_gini', data=d, label='gini')\n",
        "plt.plot('max_features','acc_entropy', data=d, label='entropy')\n",
        "plt.xlabel('max_features')\n",
        "plt.ylabel('accuracy')\n",
        "plt.legend()\n",
        "\n",
        "best_ent_max_features = np.argmax(acc_entropy) + 1 + start\n",
        "best_gini_max_features = np.argmax(acc_gini) + 1 + start"
      ],
      "metadata": {
        "colab": {
          "base_uri": "https://localhost:8080/",
          "height": 450
        },
        "outputId": "ce820239-ea8b-4223-809a-431dd4a0655b",
        "id": "gN1j1Cm5dZYJ"
      },
      "execution_count": 41,
      "outputs": [
        {
          "output_type": "display_data",
          "data": {
            "text/plain": [
              "<Figure size 640x480 with 1 Axes>"
            ],
            "image/png": "[encoded data removed]"
          },
          "metadata": {}
        }
      ]
    },
    {
      "cell_type": "code",
      "source": [
        "print('best max features for entropy:', best_ent_max_features, '\\nbest max features for gini:', best_gini_max_features)"
      ],
      "metadata": {
        "colab": {
          "base_uri": "https://localhost:8080/"
        },
        "outputId": "c5c9f7e2-6a06-4775-c441-2c06d65324f5",
        "id": "xSBWnY7_dZYJ"
      },
      "execution_count": 42,
      "outputs": [
        {
          "output_type": "stream",
          "name": "stdout",
          "text": [
            "best max features for entropy: 37 \n",
            "best max features for gini: 35\n"
          ]
        }
      ]
    },
    {
      "cell_type": "markdown",
      "source": [
        "### **find best max depth**"
      ],
      "metadata": {
        "id": "lbecju4vtdem"
      }
    },
    {
      "cell_type": "code",
      "source": [
        "max_depth = []\n",
        "acc_gini = []\n",
        "acc_entropy = []\n",
        "start = 10\n",
        "end = 40\n",
        "for i in range(start, end):\n",
        "  # decision tree with gini\n",
        "  dtree = DecisionTreeClassifier(criterion='gini', max_depth=i)\n",
        "  dtree.fit(x_train, y_train)\n",
        "  pred = dtree.predict(x_valid)\n",
        "  acc_gini.append(accuracy_score(y_valid,pred))\n",
        "\n",
        "  # decision tree with entropy\n",
        "  dtree = DecisionTreeClassifier(criterion='entropy', max_depth=i)\n",
        "  dtree.fit(x_train, y_train)\n",
        "  pred = dtree.predict(x_valid)\n",
        "  acc_entropy.append(accuracy_score(y_valid, pred))\n",
        "\n",
        "  max_depth.append(i)\n",
        "  d = pd.DataFrame({'acc_gini':pd.Series(acc_gini), 'acc_entropy':pd.Series(acc_entropy), 'max_depth':pd.Series(max_depth)})# visualizing changes in parameters\n",
        "plt.plot('max_depth','acc_gini', data=d, label='gini')\n",
        "plt.plot('max_depth','acc_entropy', data=d, label='entropy')\n",
        "plt.xlabel('max_depth')\n",
        "plt.ylabel('accuracy')\n",
        "plt.legend()\n",
        "\n",
        "best_ent_max_depth = np.argmax(acc_entropy) + 1 + start\n",
        "best_gini_max_depth = np.argmax(acc_gini) + 1 + start"
      ],
      "metadata": {
        "colab": {
          "base_uri": "https://localhost:8080/",
          "height": 450
        },
        "id": "hbP9_4tYtY3e",
        "outputId": "680a1bbd-0844-46f6-dee7-b941786cdd8c"
      },
      "execution_count": 43,
      "outputs": [
        {
          "output_type": "display_data",
          "data": {
            "text/plain": [
              "<Figure size 640x480 with 1 Axes>"
            ],
            "image/png": "[encoded data removed]"
          },
          "metadata": {}
        }
      ]
    },
    {
      "cell_type": "code",
      "source": [
        "print('best max depth for entropy:', best_ent_max_depth, '\\nbest max depth for gini:', best_gini_max_depth)"
      ],
      "metadata": {
        "colab": {
          "base_uri": "https://localhost:8080/"
        },
        "id": "S8mJ1w0lts2O",
        "outputId": "9983212c-62ff-4898-9081-5dd536b22b53"
      },
      "execution_count": 44,
      "outputs": [
        {
          "output_type": "stream",
          "name": "stdout",
          "text": [
            "best max depth for entropy: 14 \n",
            "best max depth for gini: 15\n"
          ]
        }
      ]
    },
    {
      "cell_type": "markdown",
      "source": [
        "### **find best min sample split**"
      ],
      "metadata": {
        "id": "b_Lz2Z3fVr-b"
      }
    },
    {
      "cell_type": "code",
      "source": [
        "min_samples_split = []\n",
        "acc_gini = []\n",
        "acc_entropy = []\n",
        "start = 2\n",
        "end = 100\n",
        "for i in range(start, end):\n",
        "  # decision tree with gini\n",
        "  dtree = DecisionTreeClassifier(criterion='gini', min_samples_split=i)\n",
        "  dtree.fit(x_train, y_train)\n",
        "  pred = dtree.predict(x_test)\n",
        "  acc_gini.append(accuracy_score(y_test,pred))\n",
        "\n",
        "  # decision tree with entropy\n",
        "  dtree = DecisionTreeClassifier(criterion='entropy', min_samples_split=i)\n",
        "  dtree.fit(x_train, y_train)\n",
        "  pred = dtree.predict(x_test)\n",
        "  acc_entropy.append(accuracy_score(y_test, pred))\n",
        "\n",
        "  min_samples_split.append(i)\n",
        "  d = pd.DataFrame({'acc_gini':pd.Series(acc_gini), 'acc_entropy':pd.Series(acc_entropy), 'min_samples_split':pd.Series(min_samples_split)})# visualizing changes in parameters\n",
        "plt.plot('min_samples_split','acc_gini', data=d, label='gini')\n",
        "plt.plot('min_samples_split','acc_entropy', data=d, label='entropy')\n",
        "plt.xlabel('min_samples_split')\n",
        "plt.ylabel('accuracy')\n",
        "plt.legend()\n",
        "\n",
        "best_ent_min_samples_split = np.argmax(acc_entropy) + 1 + start\n",
        "best_gini_min_samples_split = np.argmax(acc_gini) + 1 + start"
      ],
      "metadata": {
        "colab": {
          "base_uri": "https://localhost:8080/",
          "height": 450
        },
        "outputId": "956958dd-340b-40c7-a50a-c454e4b6d5d1",
        "id": "SuxupZJ7Vr-b"
      },
      "execution_count": 45,
      "outputs": [
        {
          "output_type": "display_data",
          "data": {
            "text/plain": [
              "<Figure size 640x480 with 1 Axes>"
            ],
            "image/png": "[encoded data removed]"
          },
          "metadata": {}
        }
      ]
    },
    {
      "cell_type": "code",
      "source": [
        "print('best min samples split for entropy:', best_ent_min_samples_split, '\\nbest min samples split for gini:', best_gini_min_samples_split)"
      ],
      "metadata": {
        "colab": {
          "base_uri": "https://localhost:8080/"
        },
        "outputId": "914ede42-9426-4c63-ceed-8d1fc775053b",
        "id": "sQOp1cmKVr-c"
      },
      "execution_count": 46,
      "outputs": [
        {
          "output_type": "stream",
          "name": "stdout",
          "text": [
            "best min samples split for entropy: 26 \n",
            "best min samples split for gini: 38\n"
          ]
        }
      ]
    },
    {
      "cell_type": "markdown",
      "source": [
        "### **find best min sample leaf**"
      ],
      "metadata": {
        "id": "SVy2gVVoX3B4"
      }
    },
    {
      "cell_type": "code",
      "source": [
        "min_samples_leaf = []\n",
        "acc_gini = []\n",
        "acc_entropy = []\n",
        "start = 1\n",
        "end = 30\n",
        "for i in range(start, end):\n",
        "  # decision tree with gini\n",
        "  dtree = DecisionTreeClassifier(criterion='gini', min_samples_leaf=i)\n",
        "  dtree.fit(x_train, y_train)\n",
        "  pred = dtree.predict(x_valid)\n",
        "  acc_gini.append(accuracy_score(y_valid,pred))\n",
        "\n",
        "  # decision tree with entropy\n",
        "  dtree = DecisionTreeClassifier(criterion='entropy', min_samples_leaf=i)\n",
        "  dtree.fit(x_train, y_train)\n",
        "  pred = dtree.predict(x_valid)\n",
        "  acc_entropy.append(accuracy_score(y_valid, pred))\n",
        "\n",
        "  min_samples_leaf.append(i)\n",
        "  d = pd.DataFrame({'acc_gini':pd.Series(acc_gini), 'acc_entropy':pd.Series(acc_entropy), 'min_samples_leaf':pd.Series(min_samples_leaf)})# visualizing changes in parameters\n",
        "plt.plot('min_samples_leaf','acc_gini', data=d, label='gini')\n",
        "plt.plot('min_samples_leaf','acc_entropy', data=d, label='entropy')\n",
        "plt.xlabel('min_samples_leaf')\n",
        "plt.ylabel('accuracy')\n",
        "plt.legend()\n",
        "\n",
        "best_ent_min_samples_leaf = np.argmax(acc_entropy) + 1 +start\n",
        "best_gini_min_samples_leaf = np.argmax(acc_gini) + 1 + start"
      ],
      "metadata": {
        "colab": {
          "base_uri": "https://localhost:8080/",
          "height": 450
        },
        "outputId": "4dbc10fe-83b3-4139-8d9d-4ada68e4722b",
        "id": "ni9w7AF3X3B5"
      },
      "execution_count": 47,
      "outputs": [
        {
          "output_type": "display_data",
          "data": {
            "text/plain": [
              "<Figure size 640x480 with 1 Axes>"
            ],
            "image/png": "[encoded data removed]"
          },
          "metadata": {}
        }
      ]
    },
    {
      "cell_type": "code",
      "source": [
        "print('best min samples leaf for entropy:', best_ent_min_samples_leaf, '\\nbest min samples leaf for gini:', best_gini_min_samples_leaf)"
      ],
      "metadata": {
        "colab": {
          "base_uri": "https://localhost:8080/"
        },
        "outputId": "3976e9d2-1b8b-41f6-d160-696a11fbd0bc",
        "id": "RFTu2DxgX3B5"
      },
      "execution_count": 48,
      "outputs": [
        {
          "output_type": "stream",
          "name": "stdout",
          "text": [
            "best mmin samples leaf for entropy: 10 \n",
            "best min samples leaf for gini: 17\n"
          ]
        }
      ]
    },
    {
      "cell_type": "markdown",
      "source": [
        "### **find best max leaf nodes**"
      ],
      "metadata": {
        "id": "hfaB3jf6Xo2c"
      }
    },
    {
      "cell_type": "code",
      "source": [
        "max_leaf_nodes = []\n",
        "acc_gini = []\n",
        "acc_entropy = []\n",
        "start = 70\n",
        "end = 200\n",
        "for i in range(start, end):\n",
        "  # decision tree with gini\n",
        "  dtree = DecisionTreeClassifier(criterion='gini', max_leaf_nodes=i)\n",
        "  dtree.fit(x_train, y_train)\n",
        "  pred = dtree.predict(x_valid)\n",
        "  acc_gini.append(accuracy_score(y_valid,pred))\n",
        "\n",
        "  # decision tree with entropy\n",
        "  dtree = DecisionTreeClassifier(criterion='entropy', max_leaf_nodes=i)\n",
        "  dtree.fit(x_train, y_train)\n",
        "  pred = dtree.predict(x_valid)\n",
        "  acc_entropy.append(accuracy_score(y_valid, pred))\n",
        "\n",
        "  max_leaf_nodes.append(i)\n",
        "  d = pd.DataFrame({'acc_gini':pd.Series(acc_gini), 'acc_entropy':pd.Series(acc_entropy), 'max_leaf_nodes':pd.Series(max_leaf_nodes)})# visualizing changes in parameters\n",
        "plt.plot('max_leaf_nodes','acc_gini', data=d, label='gini')\n",
        "plt.plot('max_leaf_nodes','acc_entropy', data=d, label='entropy')\n",
        "plt.xlabel('max_leaf_nodes')\n",
        "plt.ylabel('accuracy')\n",
        "plt.legend()\n",
        "\n",
        "best_ent_max_leaf_nodes = np.argmax(acc_entropy) + 1 + start\n",
        "best_gini_max_leaf_nodes = np.argmax(acc_gini) + 1 + start"
      ],
      "metadata": {
        "colab": {
          "base_uri": "https://localhost:8080/",
          "height": 450
        },
        "outputId": "6045a050-1101-453e-aea3-80d73c63daef",
        "id": "J9CBXfqgXo2d"
      },
      "execution_count": 49,
      "outputs": [
        {
          "output_type": "display_data",
          "data": {
            "text/plain": [
              "<Figure size 640x480 with 1 Axes>"
            ],
            "image/png": "[encoded data removed]"
          },
          "metadata": {}
        }
      ]
    },
    {
      "cell_type": "code",
      "source": [
        "print('best max leaf nodes for entropy:', best_ent_max_leaf_nodes, '\\nbest max leaf nodes for gini:', best_gini_max_leaf_nodes)"
      ],
      "metadata": {
        "colab": {
          "base_uri": "https://localhost:8080/"
        },
        "outputId": "5a3e9817-7962-4994-9512-e61687f1ba76",
        "id": "koR7w-nSXo2e"
      },
      "execution_count": 50,
      "outputs": [
        {
          "output_type": "stream",
          "name": "stdout",
          "text": [
            "best max leaf nodes for entropy: 194 \n",
            "best max leaf nodes for gini: 199\n"
          ]
        }
      ]
    },
    {
      "cell_type": "markdown",
      "source": [
        "### **GridSearchCV**"
      ],
      "metadata": {
        "id": "zkelDcAQyyFn"
      }
    },
    {
      "cell_type": "code",
      "source": [
        "params = {\n",
        "    'max_depth': [10, 12, 13, 14, 15, 16],\n",
        "    'min_samples_split': [20, 21, 22, 23, 24, 25, 26, 27, 28, 29, 30, 31, 32, 33, 34, 35, 36, 37, 38, 39, 40],\n",
        "    'min_samples_leaf': [5, 6, 7, 8, 9, 10, 11, 12, 13, 14, 15, 16, 17, 18, 19, 20]}\n",
        "\n",
        "clf = DecisionTreeClassifier()\n",
        "gcv = GridSearchCV(estimator=clf,param_grid=params)\n",
        "gcv.fit(x_train,y_train)"
      ],
      "metadata": {
        "colab": {
          "base_uri": "https://localhost:8080/",
          "height": 116
        },
        "id": "Gk86wr4ky2iL",
        "outputId": "b156b766-cb19-4f6e-b120-7be1d1f48822"
      },
      "execution_count": null,
      "outputs": [
        {
          "output_type": "execute_result",
          "data": {
            "text/plain": [
              "GridSearchCV(estimator=DecisionTreeClassifier(),\n",
              "             param_grid={'max_depth': [10, 12, 13, 14, 15, 16],\n",
              "                         'min_samples_leaf': [5, 6, 7, 8, 9, 10, 11, 12, 13, 14,\n",
              "                                              15, 16, 17, 18, 19, 20],\n",
              "                         'min_samples_split': [20, 21, 22, 23, 24, 25, 26, 27,\n",
              "                                               28, 29, 30, 31, 32, 33, 34, 35,\n",
              "                                               36, 37, 38, 39, 40]})"
            ],
            "text/html": [
              "<style>#sk-container-id-1 {color: black;background-color: white;}#sk-container-id-1 pre{padding: 0;}#sk-container-id-1 div.sk-toggleable {background-color: white;}#sk-container-id-1 label.sk-toggleable__label {cursor: pointer;display: block;width: 100%;margin-bottom: 0;padding: 0.3em;box-sizing: border-box;text-align: center;}#sk-container-id-1 label.sk-toggleable__label-arrow:before {content: \"▸\";float: left;margin-right: 0.25em;color: #696969;}#sk-container-id-1 label.sk-toggleable__label-arrow:hover:before {color: black;}#sk-container-id-1 div.sk-estimator:hover label.sk-toggleable__label-arrow:before {color: black;}#sk-container-id-1 div.sk-toggleable__content {max-height: 0;max-width: 0;overflow: hidden;text-align: left;background-color: #f0f8ff;}#sk-container-id-1 div.sk-toggleable__content pre {margin: 0.2em;color: black;border-radius: 0.25em;background-color: #f0f8ff;}#sk-container-id-1 input.sk-toggleable__control:checked~div.sk-toggleable__content {max-height: 200px;max-width: 100%;overflow: auto;}#sk-container-id-1 input.sk-toggleable__control:checked~label.sk-toggleable__label-arrow:before {content: \"▾\";}#sk-container-id-1 div.sk-estimator input.sk-toggleable__control:checked~label.sk-toggleable__label {background-color: #d4ebff;}#sk-container-id-1 div.sk-label input.sk-toggleable__control:checked~label.sk-toggleable__label {background-color: #d4ebff;}#sk-container-id-1 input.sk-hidden--visually {border: 0;clip: rect(1px 1px 1px 1px);clip: rect(1px, 1px, 1px, 1px);height: 1px;margin: -1px;overflow: hidden;padding: 0;position: absolute;width: 1px;}#sk-container-id-1 div.sk-estimator {font-family: monospace;background-color: #f0f8ff;border: 1px dotted black;border-radius: 0.25em;box-sizing: border-box;margin-bottom: 0.5em;}#sk-container-id-1 div.sk-estimator:hover {background-color: #d4ebff;}#sk-container-id-1 div.sk-parallel-item::after {content: \"\";width: 100%;border-bottom: 1px solid gray;flex-grow: 1;}#sk-container-id-1 div.sk-label:hover label.sk-toggleable__label {background-color: #d4ebff;}#sk-container-id-1 div.sk-serial::before {content: \"\";position: absolute;border-left: 1px solid gray;box-sizing: border-box;top: 0;bottom: 0;left: 50%;z-index: 0;}#sk-container-id-1 div.sk-serial {display: flex;flex-direction: column;align-items: center;background-color: white;padding-right: 0.2em;padding-left: 0.2em;position: relative;}#sk-container-id-1 div.sk-item {position: relative;z-index: 1;}#sk-container-id-1 div.sk-parallel {display: flex;align-items: stretch;justify-content: center;background-color: white;position: relative;}#sk-container-id-1 div.sk-item::before, #sk-container-id-1 div.sk-parallel-item::before {content: \"\";position: absolute;border-left: 1px solid gray;box-sizing: border-box;top: 0;bottom: 0;left: 50%;z-index: -1;}#sk-container-id-1 div.sk-parallel-item {display: flex;flex-direction: column;z-index: 1;position: relative;background-color: white;}#sk-container-id-1 div.sk-parallel-item:first-child::after {align-self: flex-end;width: 50%;}#sk-container-id-1 div.sk-parallel-item:last-child::after {align-self: flex-start;width: 50%;}#sk-container-id-1 div.sk-parallel-item:only-child::after {width: 0;}#sk-container-id-1 div.sk-dashed-wrapped {border: 1px dashed gray;margin: 0 0.4em 0.5em 0.4em;box-sizing: border-box;padding-bottom: 0.4em;background-color: white;}#sk-container-id-1 div.sk-label label {font-family: monospace;font-weight: bold;display: inline-block;line-height: 1.2em;}#sk-container-id-1 div.sk-label-container {text-align: center;}#sk-container-id-1 div.sk-container {/* jupyter's `normalize.less` sets `[hidden] { display: none; }` but bootstrap.min.css set `[hidden] { display: none !important; }` so we also need the `!important` here to be able to override the default hidden behavior on the sphinx rendered scikit-learn.org. See: https://github.com/scikit-learn/scikit-learn/issues/21755 */display: inline-block !important;position: relative;}#sk-container-id-1 div.sk-text-repr-fallback {display: none;}</style><div id=\"sk-container-id-1\" class=\"sk-top-container\"><div class=\"sk-text-repr-fallback\"><pre>GridSearchCV(estimator=DecisionTreeClassifier(),\n",
              "             param_grid={&#x27;max_depth&#x27;: [10, 12, 13, 14, 15, 16],\n",
              "                         &#x27;min_samples_leaf&#x27;: [5, 6, 7, 8, 9, 10, 11, 12, 13, 14,\n",
              "                                              15, 16, 17, 18, 19, 20],\n",
              "                         &#x27;min_samples_split&#x27;: [20, 21, 22, 23, 24, 25, 26, 27,\n",
              "                                               28, 29, 30, 31, 32, 33, 34, 35,\n",
              "                                               36, 37, 38, 39, 40]})</pre><b>In a Jupyter environment, please rerun this cell to show the HTML representation or trust the notebook. <br />On GitHub, the HTML representation is unable to render, please try loading this page with nbviewer.org.</b></div><div class=\"sk-container\" hidden><div class=\"sk-item sk-dashed-wrapped\"><div class=\"sk-label-container\"><div class=\"sk-label sk-toggleable\"><input class=\"sk-toggleable__control sk-hidden--visually\" id=\"sk-estimator-id-1\" type=\"checkbox\" ><label for=\"sk-estimator-id-1\" class=\"sk-toggleable__label sk-toggleable__label-arrow\">GridSearchCV</label><div class=\"sk-toggleable__content\"><pre>GridSearchCV(estimator=DecisionTreeClassifier(),\n",
              "             param_grid={&#x27;max_depth&#x27;: [10, 12, 13, 14, 15, 16],\n",
              "                         &#x27;min_samples_leaf&#x27;: [5, 6, 7, 8, 9, 10, 11, 12, 13, 14,\n",
              "                                              15, 16, 17, 18, 19, 20],\n",
              "                         &#x27;min_samples_split&#x27;: [20, 21, 22, 23, 24, 25, 26, 27,\n",
              "                                               28, 29, 30, 31, 32, 33, 34, 35,\n",
              "                                               36, 37, 38, 39, 40]})</pre></div></div></div><div class=\"sk-parallel\"><div class=\"sk-parallel-item\"><div class=\"sk-item\"><div class=\"sk-label-container\"><div class=\"sk-label sk-toggleable\"><input class=\"sk-toggleable__control sk-hidden--visually\" id=\"sk-estimator-id-2\" type=\"checkbox\" ><label for=\"sk-estimator-id-2\" class=\"sk-toggleable__label sk-toggleable__label-arrow\">estimator: DecisionTreeClassifier</label><div class=\"sk-toggleable__content\"><pre>DecisionTreeClassifier()</pre></div></div></div><div class=\"sk-serial\"><div class=\"sk-item\"><div class=\"sk-estimator sk-toggleable\"><input class=\"sk-toggleable__control sk-hidden--visually\" id=\"sk-estimator-id-3\" type=\"checkbox\" ><label for=\"sk-estimator-id-3\" class=\"sk-toggleable__label sk-toggleable__label-arrow\">DecisionTreeClassifier</label><div class=\"sk-toggleable__content\"><pre>DecisionTreeClassifier()</pre></div></div></div></div></div></div></div></div></div></div>"
            ]
          },
          "metadata": {},
          "execution_count": 15
        }
      ]
    },
    {
      "cell_type": "code",
      "source": [
        "gcv.best_params_"
      ],
      "metadata": {
        "colab": {
          "base_uri": "https://localhost:8080/"
        },
        "id": "K_bSvxnu9gen",
        "outputId": "fe5df35e-893d-45de-ef37-b67353313339"
      },
      "execution_count": null,
      "outputs": [
        {
          "output_type": "execute_result",
          "data": {
            "text/plain": [
              "{'max_depth': 16, 'min_samples_leaf': 7, 'min_samples_split': 32}"
            ]
          },
          "metadata": {},
          "execution_count": 16
        }
      ]
    },
    {
      "cell_type": "code",
      "source": [
        "cv_results = pd.DataFrame(gcv.cv_results_)"
      ],
      "metadata": {
        "id": "fos4EfQ-Q8EH"
      },
      "execution_count": null,
      "outputs": []
    },
    {
      "cell_type": "code",
      "source": [
        "cv_results"
      ],
      "metadata": {
        "colab": {
          "base_uri": "https://localhost:8080/",
          "height": 834
        },
        "id": "8yE4cjHdTbMb",
        "outputId": "a85af023-a43e-401e-a7ef-6b99e68c3b53"
      },
      "execution_count": null,
      "outputs": [
        {
          "output_type": "execute_result",
          "data": {
            "text/plain": [
              "      mean_fit_time  std_fit_time  mean_score_time  std_score_time  \\\n",
              "0          0.135250      0.007770         0.004632        0.000491   \n",
              "1          0.136581      0.008599         0.004991        0.000693   \n",
              "2          0.129640      0.001537         0.004551        0.000223   \n",
              "3          0.137194      0.009184         0.004390        0.000109   \n",
              "4          0.131899      0.002720         0.004500        0.000247   \n",
              "...             ...           ...              ...             ...   \n",
              "2011       0.144212      0.001955         0.004635        0.000258   \n",
              "2012       0.144443      0.003030         0.004626        0.000131   \n",
              "2013       0.146484      0.002607         0.004742        0.000139   \n",
              "2014       0.143043      0.001834         0.004591        0.000167   \n",
              "2015       0.144290      0.003268         0.004438        0.000085   \n",
              "\n",
              "     param_max_depth param_min_samples_leaf param_min_samples_split  \\\n",
              "0                 10                      5                      20   \n",
              "1                 10                      5                      21   \n",
              "2                 10                      5                      22   \n",
              "3                 10                      5                      23   \n",
              "4                 10                      5                      24   \n",
              "...              ...                    ...                     ...   \n",
              "2011              16                     20                      36   \n",
              "2012              16                     20                      37   \n",
              "2013              16                     20                      38   \n",
              "2014              16                     20                      39   \n",
              "2015              16                     20                      40   \n",
              "\n",
              "                                                 params  split0_test_score  \\\n",
              "0     {'max_depth': 10, 'min_samples_leaf': 5, 'min_...           0.721806   \n",
              "1     {'max_depth': 10, 'min_samples_leaf': 5, 'min_...           0.721898   \n",
              "2     {'max_depth': 10, 'min_samples_leaf': 5, 'min_...           0.721898   \n",
              "3     {'max_depth': 10, 'min_samples_leaf': 5, 'min_...           0.721991   \n",
              "4     {'max_depth': 10, 'min_samples_leaf': 5, 'min_...           0.721806   \n",
              "...                                                 ...                ...   \n",
              "2011  {'max_depth': 16, 'min_samples_leaf': 20, 'min...           0.736238   \n",
              "2012  {'max_depth': 16, 'min_samples_leaf': 20, 'min...           0.736053   \n",
              "2013  {'max_depth': 16, 'min_samples_leaf': 20, 'min...           0.736053   \n",
              "2014  {'max_depth': 16, 'min_samples_leaf': 20, 'min...           0.736053   \n",
              "2015  {'max_depth': 16, 'min_samples_leaf': 20, 'min...           0.736053   \n",
              "\n",
              "      split1_test_score  split2_test_score  split3_test_score  \\\n",
              "0              0.719956           0.719308           0.727542   \n",
              "1              0.720048           0.719123           0.727634   \n",
              "2              0.720233           0.719308           0.727727   \n",
              "3              0.720696           0.719215           0.727912   \n",
              "4              0.720881           0.719215           0.728004   \n",
              "...                 ...                ...                ...   \n",
              "2011           0.730687           0.729577           0.731242   \n",
              "2012           0.730687           0.729577           0.731242   \n",
              "2013           0.730687           0.729577           0.731242   \n",
              "2014           0.730687           0.729577           0.731242   \n",
              "2015           0.730687           0.729577           0.731242   \n",
              "\n",
              "      split4_test_score  mean_test_score  std_test_score  rank_test_score  \n",
              "0              0.729392         0.723601        0.004099             1753  \n",
              "1              0.729485         0.723638        0.004158             1750  \n",
              "2              0.729485         0.723730        0.004104             1732  \n",
              "3              0.729577         0.723878        0.004103             1710  \n",
              "4              0.729577         0.723897        0.004112             1708  \n",
              "...                 ...              ...             ...              ...  \n",
              "2011           0.732075         0.731964        0.002286             1465  \n",
              "2012           0.732075         0.731927        0.002217             1472  \n",
              "2013           0.732075         0.731927        0.002217             1472  \n",
              "2014           0.732075         0.731927        0.002217             1472  \n",
              "2015           0.732075         0.731927        0.002217             1472  \n",
              "\n",
              "[2016 rows x 16 columns]"
            ],
            "text/html": [
              "\n",
              "  <div id=\"df-e9cd7225-b943-4e84-bd00-830e8dd9f493\">\n",
              "    <div class=\"colab-df-container\">\n",
              "      <div>\n",
              "<style scoped>\n",
              "    .dataframe tbody tr th:only-of-type {\n",
              "        vertical-align: middle;\n",
              "    }\n",
              "\n",
              "    .dataframe tbody tr th {\n",
              "        vertical-align: top;\n",
              "    }\n",
              "\n",
              "    .dataframe thead th {\n",
              "        text-align: right;\n",
              "    }\n",
              "</style>\n",
              "<table border=\"1\" class=\"dataframe\">\n",
              "  <thead>\n",
              "    <tr style=\"text-align: right;\">\n",
              "      <th></th>\n",
              "      <th>mean_fit_time</th>\n",
              "      <th>std_fit_time</th>\n",
              "      <th>mean_score_time</th>\n",
              "      <th>std_score_time</th>\n",
              "      <th>param_max_depth</th>\n",
              "      <th>param_min_samples_leaf</th>\n",
              "      <th>param_min_samples_split</th>\n",
              "      <th>params</th>\n",
              "      <th>split0_test_score</th>\n",
              "      <th>split1_test_score</th>\n",
              "      <th>split2_test_score</th>\n",
              "      <th>split3_test_score</th>\n",
              "      <th>split4_test_score</th>\n",
              "      <th>mean_test_score</th>\n",
              "      <th>std_test_score</th>\n",
              "      <th>rank_test_score</th>\n",
              "    </tr>\n",
              "  </thead>\n",
              "  <tbody>\n",
              "    <tr>\n",
              "      <th>0</th>\n",
              "      <td>0.135250</td>\n",
              "      <td>0.007770</td>\n",
              "      <td>0.004632</td>\n",
              "      <td>0.000491</td>\n",
              "      <td>10</td>\n",
              "      <td>5</td>\n",
              "      <td>20</td>\n",
              "      <td>{'max_depth': 10, 'min_samples_leaf': 5, 'min_...</td>\n",
              "      <td>0.721806</td>\n",
              "      <td>0.719956</td>\n",
              "      <td>0.719308</td>\n",
              "      <td>0.727542</td>\n",
              "      <td>0.729392</td>\n",
              "      <td>0.723601</td>\n",
              "      <td>0.004099</td>\n",
              "      <td>1753</td>\n",
              "    </tr>\n",
              "    <tr>\n",
              "      <th>1</th>\n",
              "      <td>0.136581</td>\n",
              "      <td>0.008599</td>\n",
              "      <td>0.004991</td>\n",
              "      <td>0.000693</td>\n",
              "      <td>10</td>\n",
              "      <td>5</td>\n",
              "      <td>21</td>\n",
              "      <td>{'max_depth': 10, 'min_samples_leaf': 5, 'min_...</td>\n",
              "      <td>0.721898</td>\n",
              "      <td>0.720048</td>\n",
              "      <td>0.719123</td>\n",
              "      <td>0.727634</td>\n",
              "      <td>0.729485</td>\n",
              "      <td>0.723638</td>\n",
              "      <td>0.004158</td>\n",
              "      <td>1750</td>\n",
              "    </tr>\n",
              "    <tr>\n",
              "      <th>2</th>\n",
              "      <td>0.129640</td>\n",
              "      <td>0.001537</td>\n",
              "      <td>0.004551</td>\n",
              "      <td>0.000223</td>\n",
              "      <td>10</td>\n",
              "      <td>5</td>\n",
              "      <td>22</td>\n",
              "      <td>{'max_depth': 10, 'min_samples_leaf': 5, 'min_...</td>\n",
              "      <td>0.721898</td>\n",
              "      <td>0.720233</td>\n",
              "      <td>0.719308</td>\n",
              "      <td>0.727727</td>\n",
              "      <td>0.729485</td>\n",
              "      <td>0.723730</td>\n",
              "      <td>0.004104</td>\n",
              "      <td>1732</td>\n",
              "    </tr>\n",
              "    <tr>\n",
              "      <th>3</th>\n",
              "      <td>0.137194</td>\n",
              "      <td>0.009184</td>\n",
              "      <td>0.004390</td>\n",
              "      <td>0.000109</td>\n",
              "      <td>10</td>\n",
              "      <td>5</td>\n",
              "      <td>23</td>\n",
              "      <td>{'max_depth': 10, 'min_samples_leaf': 5, 'min_...</td>\n",
              "      <td>0.721991</td>\n",
              "      <td>0.720696</td>\n",
              "      <td>0.719215</td>\n",
              "      <td>0.727912</td>\n",
              "      <td>0.729577</td>\n",
              "      <td>0.723878</td>\n",
              "      <td>0.004103</td>\n",
              "      <td>1710</td>\n",
              "    </tr>\n",
              "    <tr>\n",
              "      <th>4</th>\n",
              "      <td>0.131899</td>\n",
              "      <td>0.002720</td>\n",
              "      <td>0.004500</td>\n",
              "      <td>0.000247</td>\n",
              "      <td>10</td>\n",
              "      <td>5</td>\n",
              "      <td>24</td>\n",
              "      <td>{'max_depth': 10, 'min_samples_leaf': 5, 'min_...</td>\n",
              "      <td>0.721806</td>\n",
              "      <td>0.720881</td>\n",
              "      <td>0.719215</td>\n",
              "      <td>0.728004</td>\n",
              "      <td>0.729577</td>\n",
              "      <td>0.723897</td>\n",
              "      <td>0.004112</td>\n",
              "      <td>1708</td>\n",
              "    </tr>\n",
              "    <tr>\n",
              "      <th>...</th>\n",
              "      <td>...</td>\n",
              "      <td>...</td>\n",
              "      <td>...</td>\n",
              "      <td>...</td>\n",
              "      <td>...</td>\n",
              "      <td>...</td>\n",
              "      <td>...</td>\n",
              "      <td>...</td>\n",
              "      <td>...</td>\n",
              "      <td>...</td>\n",
              "      <td>...</td>\n",
              "      <td>...</td>\n",
              "      <td>...</td>\n",
              "      <td>...</td>\n",
              "      <td>...</td>\n",
              "      <td>...</td>\n",
              "    </tr>\n",
              "    <tr>\n",
              "      <th>2011</th>\n",
              "      <td>0.144212</td>\n",
              "      <td>0.001955</td>\n",
              "      <td>0.004635</td>\n",
              "      <td>0.000258</td>\n",
              "      <td>16</td>\n",
              "      <td>20</td>\n",
              "      <td>36</td>\n",
              "      <td>{'max_depth': 16, 'min_samples_leaf': 20, 'min...</td>\n",
              "      <td>0.736238</td>\n",
              "      <td>0.730687</td>\n",
              "      <td>0.729577</td>\n",
              "      <td>0.731242</td>\n",
              "      <td>0.732075</td>\n",
              "      <td>0.731964</td>\n",
              "      <td>0.002286</td>\n",
              "      <td>1465</td>\n",
              "    </tr>\n",
              "    <tr>\n",
              "      <th>2012</th>\n",
              "      <td>0.144443</td>\n",
              "      <td>0.003030</td>\n",
              "      <td>0.004626</td>\n",
              "      <td>0.000131</td>\n",
              "      <td>16</td>\n",
              "      <td>20</td>\n",
              "      <td>37</td>\n",
              "      <td>{'max_depth': 16, 'min_samples_leaf': 20, 'min...</td>\n",
              "      <td>0.736053</td>\n",
              "      <td>0.730687</td>\n",
              "      <td>0.729577</td>\n",
              "      <td>0.731242</td>\n",
              "      <td>0.732075</td>\n",
              "      <td>0.731927</td>\n",
              "      <td>0.002217</td>\n",
              "      <td>1472</td>\n",
              "    </tr>\n",
              "    <tr>\n",
              "      <th>2013</th>\n",
              "      <td>0.146484</td>\n",
              "      <td>0.002607</td>\n",
              "      <td>0.004742</td>\n",
              "      <td>0.000139</td>\n",
              "      <td>16</td>\n",
              "      <td>20</td>\n",
              "      <td>38</td>\n",
              "      <td>{'max_depth': 16, 'min_samples_leaf': 20, 'min...</td>\n",
              "      <td>0.736053</td>\n",
              "      <td>0.730687</td>\n",
              "      <td>0.729577</td>\n",
              "      <td>0.731242</td>\n",
              "      <td>0.732075</td>\n",
              "      <td>0.731927</td>\n",
              "      <td>0.002217</td>\n",
              "      <td>1472</td>\n",
              "    </tr>\n",
              "    <tr>\n",
              "      <th>2014</th>\n",
              "      <td>0.143043</td>\n",
              "      <td>0.001834</td>\n",
              "      <td>0.004591</td>\n",
              "      <td>0.000167</td>\n",
              "      <td>16</td>\n",
              "      <td>20</td>\n",
              "      <td>39</td>\n",
              "      <td>{'max_depth': 16, 'min_samples_leaf': 20, 'min...</td>\n",
              "      <td>0.736053</td>\n",
              "      <td>0.730687</td>\n",
              "      <td>0.729577</td>\n",
              "      <td>0.731242</td>\n",
              "      <td>0.732075</td>\n",
              "      <td>0.731927</td>\n",
              "      <td>0.002217</td>\n",
              "      <td>1472</td>\n",
              "    </tr>\n",
              "    <tr>\n",
              "      <th>2015</th>\n",
              "      <td>0.144290</td>\n",
              "      <td>0.003268</td>\n",
              "      <td>0.004438</td>\n",
              "      <td>0.000085</td>\n",
              "      <td>16</td>\n",
              "      <td>20</td>\n",
              "      <td>40</td>\n",
              "      <td>{'max_depth': 16, 'min_samples_leaf': 20, 'min...</td>\n",
              "      <td>0.736053</td>\n",
              "      <td>0.730687</td>\n",
              "      <td>0.729577</td>\n",
              "      <td>0.731242</td>\n",
              "      <td>0.732075</td>\n",
              "      <td>0.731927</td>\n",
              "      <td>0.002217</td>\n",
              "      <td>1472</td>\n",
              "    </tr>\n",
              "  </tbody>\n",
              "</table>\n",
              "<p>2016 rows × 16 columns</p>\n",
              "</div>\n",
              "      <button class=\"colab-df-convert\" onclick=\"convertToInteractive('df-e9cd7225-b943-4e84-bd00-830e8dd9f493')\"\n",
              "              title=\"Convert this dataframe to an interactive table.\"\n",
              "              style=\"display:none;\">\n",
              "        \n",
              "  <svg xmlns=\"http://www.w3.org/2000/svg\" height=\"24px\"viewBox=\"0 0 24 24\"\n",
              "       width=\"24px\">\n",
              "    <path d=\"M0 0h24v24H0V0z\" fill=\"none\"/>\n",
              "    <path d=\"M18.56 5.44l.94 2.06.94-2.06 2.06-.94-2.06-.94-.94-2.06-.94 2.06-2.06.94zm-11 1L8.5 8.5l.94-2.06 2.06-.94-2.06-.94L8.5 2.5l-.94 2.06-2.06.94zm10 10l.94 2.06.94-2.06 2.06-.94-2.06-.94-.94-2.06-.94 2.06-2.06.94z\"/><path d=\"M17.41 7.96l-1.37-1.37c-.4-.4-.92-.59-1.43-.59-.52 0-1.04.2-1.43.59L10.3 9.45l-7.72 7.72c-.78.78-.78 2.05 0 2.83L4 21.41c.39.39.9.59 1.41.59.51 0 1.02-.2 1.41-.59l7.78-7.78 2.81-2.81c.8-.78.8-2.07 0-2.86zM5.41 20L4 18.59l7.72-7.72 1.47 1.35L5.41 20z\"/>\n",
              "  </svg>\n",
              "      </button>\n",
              "      \n",
              "  <style>\n",
              "    .colab-df-container {\n",
              "      display:flex;\n",
              "      flex-wrap:wrap;\n",
              "      gap: 12px;\n",
              "    }\n",
              "\n",
              "    .colab-df-convert {\n",
              "      background-color: #E8F0FE;\n",
              "      border: none;\n",
              "      border-radius: 50%;\n",
              "      cursor: pointer;\n",
              "      display: none;\n",
              "      fill: #1967D2;\n",
              "      height: 32px;\n",
              "      padding: 0 0 0 0;\n",
              "      width: 32px;\n",
              "    }\n",
              "\n",
              "    .colab-df-convert:hover {\n",
              "      background-color: #E2EBFA;\n",
              "      box-shadow: 0px 1px 2px rgba(60, 64, 67, 0.3), 0px 1px 3px 1px rgba(60, 64, 67, 0.15);\n",
              "      fill: #174EA6;\n",
              "    }\n",
              "\n",
              "    [theme=dark] .colab-df-convert {\n",
              "      background-color: #3B4455;\n",
              "      fill: #D2E3FC;\n",
              "    }\n",
              "\n",
              "    [theme=dark] .colab-df-convert:hover {\n",
              "      background-color: #434B5C;\n",
              "      box-shadow: 0px 1px 3px 1px rgba(0, 0, 0, 0.15);\n",
              "      filter: drop-shadow(0px 1px 2px rgba(0, 0, 0, 0.3));\n",
              "      fill: #FFFFFF;\n",
              "    }\n",
              "  </style>\n",
              "\n",
              "      <script>\n",
              "        const buttonEl =\n",
              "          document.querySelector('#df-e9cd7225-b943-4e84-bd00-830e8dd9f493 button.colab-df-convert');\n",
              "        buttonEl.style.display =\n",
              "          google.colab.kernel.accessAllowed ? 'block' : 'none';\n",
              "\n",
              "        async function convertToInteractive(key) {\n",
              "          const element = document.querySelector('#df-e9cd7225-b943-4e84-bd00-830e8dd9f493');\n",
              "          const dataTable =\n",
              "            await google.colab.kernel.invokeFunction('convertToInteractive',\n",
              "                                                     [key], {});\n",
              "          if (!dataTable) return;\n",
              "\n",
              "          const docLinkHtml = 'Like what you see? Visit the ' +\n",
              "            '<a target=\"_blank\" href=https://colab.research.google.com/notebooks/data_table.ipynb>data table notebook</a>'\n",
              "            + ' to learn more about interactive tables.';\n",
              "          element.innerHTML = '';\n",
              "          dataTable['output_type'] = 'display_data';\n",
              "          await google.colab.output.renderOutput(dataTable, element);\n",
              "          const docLink = document.createElement('div');\n",
              "          docLink.innerHTML = docLinkHtml;\n",
              "          element.appendChild(docLink);\n",
              "        }\n",
              "      </script>\n",
              "    </div>\n",
              "  </div>\n",
              "  "
            ]
          },
          "metadata": {},
          "execution_count": 19
        }
      ]
    },
    {
      "cell_type": "code",
      "source": [
        "model = gcv.best_estimator_\n",
        "model.fit(x_train,y_train)\n",
        "y_train_pred = model.predict(x_train)\n",
        "y_test_pred = model.predict(x_test)\n",
        "\n",
        "accuracy_score(y_test_pred,y_test)\n",
        "\n",
        "# print(f'Train score {accuracy_score(y_train_pred,y_train)}')\n",
        "# print(f'Test score {accuracy_score(y_test_pred,y_test)}')\n",
        "# plot_confusionmatrix(y_train_pred,y_train,dom='Train')\n",
        "# plot_confusionmatrix(y_test_pred,y_test,dom='Test')"
      ],
      "metadata": {
        "colab": {
          "base_uri": "https://localhost:8080/"
        },
        "id": "Nz12tTLWy6Zz",
        "outputId": "5a177525-d5a8-499f-a708-61f57eaa72b7"
      },
      "execution_count": null,
      "outputs": [
        {
          "output_type": "execute_result",
          "data": {
            "text/plain": [
              "0.749185908821788"
            ]
          },
          "metadata": {},
          "execution_count": 20
        }
      ]
    },
    {
      "cell_type": "markdown",
      "source": [
        "## **Post Prunning**"
      ],
      "metadata": {
        "id": "xyv6dv9AYJuW"
      }
    },
    {
      "cell_type": "code",
      "source": [
        "clf = DecisionTreeClassifier(random_state=0)\n",
        "path = clf.cost_complexity_pruning_path(x_train, y_train)\n",
        "ccp_alphas, impurities = path.ccp_alphas, path.impurities"
      ],
      "metadata": {
        "id": "UOz7b49wYP0a"
      },
      "execution_count": 15,
      "outputs": []
    },
    {
      "cell_type": "code",
      "source": [
        "fig, ax = plt.subplots()\n",
        "ax.plot(ccp_alphas[:-1], impurities[:-1], marker=\"o\", drawstyle=\"steps-post\")\n",
        "ax.set_xlabel(\"effective alpha\")\n",
        "ax.set_ylabel(\"total impurity of leaves\")\n",
        "ax.set_title(\"Total Impurity vs effective alpha for training set\")"
      ],
      "metadata": {
        "colab": {
          "base_uri": "https://localhost:8080/",
          "height": 489
        },
        "id": "6JhuK1HgJfWq",
        "outputId": "77cf5aa8-4d42-4405-d449-c5361e66204d"
      },
      "execution_count": 16,
      "outputs": [
        {
          "output_type": "execute_result",
          "data": {
            "text/plain": [
              "Text(0.5, 1.0, 'Total Impurity vs effective alpha for training set')"
            ]
          },
          "metadata": {},
          "execution_count": 16
        },
        {
          "output_type": "display_data",
          "data": {
            "text/plain": [
              "<Figure size 640x480 with 1 Axes>"
            ],
            "image/png": "[encoded data removed]"
          },
          "metadata": {}
        }
      ]
    },
    {
      "cell_type": "code",
      "source": [
        "clfs = []\n",
        "for ccp_alpha in ccp_alphas:\n",
        "    clf = DecisionTreeClassifier(random_state=0, ccp_alpha=ccp_alpha)\n",
        "    clf.fit(x_train, y_train)\n",
        "    clfs.append(clf)\n",
        "print(\n",
        "    \"Number of nodes in the last tree is: {} with ccp_alpha: {}\".format(\n",
        "        clfs[-1].tree_.node_count, ccp_alphas[-1]\n",
        "    )\n",
        ")"
      ],
      "metadata": {
        "colab": {
          "base_uri": "https://localhost:8080/"
        },
        "id": "c4fIjKzxJrAk",
        "outputId": "2d4b6a1c-10fa-45c6-bbbe-f61374e0188f"
      },
      "execution_count": 17,
      "outputs": [
        {
          "output_type": "stream",
          "name": "stdout",
          "text": [
            "Number of nodes in the last tree is: 1 with ccp_alpha: 0.010977735725869464\n"
          ]
        }
      ]
    },
    {
      "cell_type": "code",
      "source": [
        "train_scores = [clf.score(x_train, y_train) for clf in clfs]\n",
        "valid_scores = [clf.score(x_valid, y_valid) for clf in clfs]\n",
        "test_scores = [clf.score(x_test, y_test) for clf in clfs]\n",
        "\n",
        "fig, ax = plt.subplots()\n",
        "ax.set_xlabel(\"alpha\")\n",
        "ax.set_ylabel(\"accuracy\")\n",
        "ax.set_title(\"Accuracy vs alpha for training and testing sets\")\n",
        "ax.plot(ccp_alphas, train_scores, marker=\"o\", label=\"train\", drawstyle=\"steps-post\")\n",
        "ax.plot(ccp_alphas, valid_scores, marker=\"o\", label=\"valid\", drawstyle=\"steps-post\")\n",
        "ax.plot(ccp_alphas, test_scores, marker=\"o\", label=\"test\", drawstyle=\"steps-post\")\n",
        "ax.legend()\n",
        "plt.show()"
      ],
      "metadata": {
        "colab": {
          "base_uri": "https://localhost:8080/",
          "height": 472
        },
        "id": "eUOYDmSbKKrr",
        "outputId": "85593c27-0177-4e23-b6c3-06db19d8b9f2"
      },
      "execution_count": 20,
      "outputs": [
        {
          "output_type": "display_data",
          "data": {
            "text/plain": [
              "<Figure size 640x480 with 1 Axes>"
            ],
            "image/png": "[encoded data removed]"
          },
          "metadata": {}
        }
      ]
    },
    {
      "cell_type": "code",
      "source": [
        "ccp_alphas[np.argmax(train_scores)]"
      ],
      "metadata": {
        "colab": {
          "base_uri": "https://localhost:8080/"
        },
        "id": "hKmFopVXYwRl",
        "outputId": "a9896e56-4602-4eff-aa1f-3bc945f30272"
      },
      "execution_count": 23,
      "outputs": [
        {
          "output_type": "execute_result",
          "data": {
            "text/plain": [
              "0.0"
            ]
          },
          "metadata": {},
          "execution_count": 23
        }
      ]
    },
    {
      "cell_type": "code",
      "source": [
        "ccp_alphas[np.argmax(valid_scores)]"
      ],
      "metadata": {
        "colab": {
          "base_uri": "https://localhost:8080/"
        },
        "id": "emQ-OM1HYsTi",
        "outputId": "700ec7b3-2494-4188-d432-92995e0bf258"
      },
      "execution_count": 21,
      "outputs": [
        {
          "output_type": "execute_result",
          "data": {
            "text/plain": [
              "5.333214411446677e-05"
            ]
          },
          "metadata": {},
          "execution_count": 21
        }
      ]
    },
    {
      "cell_type": "code",
      "source": [
        "ccp_alphas[np.argmax(test_scores)]"
      ],
      "metadata": {
        "colab": {
          "base_uri": "https://localhost:8080/"
        },
        "id": "EZWVk2XdXnwO",
        "outputId": "7db9bb82-46fe-4075-eaa9-a0e9109eb3bd"
      },
      "execution_count": 22,
      "outputs": [
        {
          "output_type": "execute_result",
          "data": {
            "text/plain": [
              "4.083450814536336e-05"
            ]
          },
          "metadata": {},
          "execution_count": 22
        }
      ]
    },
    {
      "cell_type": "markdown",
      "source": [
        "## **Models**"
      ],
      "metadata": {
        "id": "ACGe_x-ZSWoJ"
      }
    },
    {
      "cell_type": "markdown",
      "source": [
        "### **Informaion Gain (Entropy)**"
      ],
      "metadata": {
        "id": "AdHdCS1jtDdH"
      }
    },
    {
      "cell_type": "code",
      "source": [
        "# Create Decision Tree classifer object\n",
        "dtc_ent = DecisionTreeClassifier(criterion='entropy', max_depth=best_ent_max_depth, random_state=0)"
      ],
      "metadata": {
        "id": "kcIQvaZitXGn"
      },
      "execution_count": null,
      "outputs": []
    },
    {
      "cell_type": "code",
      "source": [
        "# Train Decision Tree Classifer\n",
        "dtc_ent = dtc_ent.fit(x_train, y_train)"
      ],
      "metadata": {
        "id": "w64CzJbvtaYn"
      },
      "execution_count": null,
      "outputs": []
    },
    {
      "cell_type": "code",
      "source": [
        "# Predict the response for test dataset\n",
        "y_pred_ent = dtc_ent.predict(x_test)"
      ],
      "metadata": {
        "id": "dmbb1-_ntdB2"
      },
      "execution_count": null,
      "outputs": []
    },
    {
      "cell_type": "code",
      "source": [
        "ent_path = dtc_ent.cost_complexity_pruning_path(x_train, y_train)\n",
        "ccp_alphas, impurities = ent_path.ccp_alphas, ent_path.impurities"
      ],
      "metadata": {
        "id": "QqjI3CkarSTW"
      },
      "execution_count": null,
      "outputs": []
    },
    {
      "cell_type": "code",
      "source": [
        "fig, ax = plt.subplots()\n",
        "ax.plot(ccp_alphas[:-1], impurities[:-1], marker=\"o\", drawstyle=\"steps-post\")\n",
        "ax.set_xlabel(\"effective alpha\")\n",
        "ax.set_ylabel(\"total impurity of leaves\")\n",
        "ax.set_title(\"Total Impurity vs effective alpha for training set\")"
      ],
      "metadata": {
        "id": "SJB2zWGLrqVP",
        "colab": {
          "base_uri": "https://localhost:8080/",
          "height": 489
        },
        "outputId": "e86664c3-f824-40e6-d562-54f4f0c853db"
      },
      "execution_count": null,
      "outputs": [
        {
          "output_type": "execute_result",
          "data": {
            "text/plain": [
              "Text(0.5, 1.0, 'Total Impurity vs effective alpha for training set')"
            ]
          },
          "metadata": {},
          "execution_count": 17
        },
        {
          "output_type": "display_data",
          "data": {
            "text/plain": [
              "<Figure size 640x480 with 1 Axes>"
            ],
            "image/png": "[encoded data removed]"
          },
          "metadata": {}
        }
      ]
    },
    {
      "cell_type": "markdown",
      "source": [
        "### **Gini Index**"
      ],
      "metadata": {
        "id": "3Nj-ndNHtRP1"
      }
    },
    {
      "cell_type": "code",
      "execution_count": null,
      "metadata": {
        "id": "eE8hRU-sQIek"
      },
      "outputs": [],
      "source": [
        "# Create Decision Tree classifer object\n",
        "dtc_gini = DecisionTreeClassifier(criterion='gini', max_depth=15, min_samples_split=10, min_samples_leaf=10, random_state=0)"
      ]
    },
    {
      "cell_type": "code",
      "source": [
        "# Train Decision Tree Classifer\n",
        "dtc_gini = dtc_gini.fit(x_train, y_train)"
      ],
      "metadata": {
        "id": "W2VY3Uy3szAf"
      },
      "execution_count": null,
      "outputs": []
    },
    {
      "cell_type": "code",
      "source": [
        "# Predict the response for test dataset\n",
        "y_pred_gini = dtc_gini.predict(x_test)\n",
        "print(\"Accuracy (gini):\", metrics.accuracy_score(y_test, y_pred_gini))"
      ],
      "metadata": {
        "id": "oSjJH_jns0ia",
        "colab": {
          "base_uri": "https://localhost:8080/"
        },
        "outputId": "1f8b3cf9-e23f-472a-b08b-efcb0934e9f1"
      },
      "execution_count": null,
      "outputs": [
        {
          "output_type": "stream",
          "name": "stdout",
          "text": [
            "Accuracy (gini): 0.7102575488454707\n"
          ]
        }
      ]
    },
    {
      "cell_type": "markdown",
      "metadata": {
        "id": "gAfimqv28dU9"
      },
      "source": [
        "# **Evaluating the Model**"
      ]
    },
    {
      "cell_type": "code",
      "execution_count": null,
      "metadata": {
        "id": "vXeJCA3m8jX2"
      },
      "outputs": [],
      "source": [
        "# Model Accuracy, how often is the classifier correct?\n",
        "print(\"Accuracy (entropy):\", metrics.accuracy_score(y_test, y_pred_ent))\n",
        "\n",
        "print(\"Accuracy (gini):\", metrics.accuracy_score(y_test, y_pred_gini))\n"
      ]
    },
    {
      "cell_type": "code",
      "source": [
        "print(f'Test score {accuracy_score(y_pred_gini,y_test)}')\n",
        "plot_confusionmatrix(y_pred_gini,y_test,dom='Test')"
      ],
      "metadata": {
        "colab": {
          "base_uri": "https://localhost:8080/",
          "height": 522
        },
        "id": "8cT_TFfkyZK1",
        "outputId": "c115eb80-6552-468e-b40d-0590a93775b8"
      },
      "execution_count": null,
      "outputs": [
        {
          "output_type": "stream",
          "name": "stdout",
          "text": [
            "Test score 0.7458555358200119\n",
            "Test Confusion matrix\n"
          ]
        },
        {
          "output_type": "display_data",
          "data": {
            "text/plain": [
              "<Figure size 640x480 with 2 Axes>"
            ],
            "image/png": "[encoded data removed]"
          },
          "metadata": {}
        }
      ]
    },
    {
      "cell_type": "markdown",
      "metadata": {
        "id": "xrxaCbTa84xZ"
      },
      "source": [
        "# **Visualizing Decision Trees**"
      ]
    },
    {
      "cell_type": "code",
      "execution_count": null,
      "metadata": {
        "colab": {
          "background_save": true
        },
        "id": "nTVPXdK-aDWA"
      },
      "outputs": [],
      "source": [
        "with tf.device('/GPU:0'):\n",
        "  dot_data = StringIO()\n",
        "  export_graphviz(dtc_ent, out_file=dot_data, filled=True, rounded=True, special_characters=True,feature_names = feature_columns,class_names=classes)\n",
        "  graph = pydotplus.graph_from_dot_data(dot_data.getvalue())\n",
        "  graph.write_png('decisionTreeClassifierEntropy.png')\n",
        "  Image(graph.create_png())"
      ]
    },
    {
      "cell_type": "code",
      "execution_count": null,
      "metadata": {
        "id": "mJAs4BdJLSVA"
      },
      "outputs": [],
      "source": [
        "dot_data = StringIO()\n",
        "export_graphviz(dtc_gini, out_file=dot_data,\n",
        "                filled=True, rounded=True,\n",
        "                special_characters=True,feature_names = feature_columns,class_names=classes)\n",
        "gini_graph = pydotplus.graph_from_dot_data(dot_data.getvalue())\n",
        "gini_graph.write_png('decisionTreeClassifierGini.png')\n",
        "Image(graph.create_png())"
      ]
    }
  ],
  "metadata": {
    "accelerator": "GPU",
    "colab": {
      "collapsed_sections": [
        "5FkIRNDo577U",
        "8iVq5p1t6HMs",
        "9_USH83u6hkO",
        "pPM1Na2T61VK",
        "PwMfBP1gx0GY",
        "rfbGx6QfSOnA",
        "eDNbsvfddZYI",
        "lbecju4vtdem",
        "b_Lz2Z3fVr-b",
        "SVy2gVVoX3B4",
        "hfaB3jf6Xo2c",
        "zkelDcAQyyFn",
        "xyv6dv9AYJuW",
        "AdHdCS1jtDdH",
        "3Nj-ndNHtRP1",
        "gAfimqv28dU9"
      ],
      "provenance": [],
      "authorship_tag": "ABX9TyN/GFINgDqbUu6zT0Vqg6Wk",
      "include_colab_link": true
    },
    "kernelspec": {
      "display_name": "Python 3",
      "name": "python3"
    },
    "language_info": {
      "name": "python"
    }
  },
  "nbformat": 4,
  "nbformat_minor": 0
}